{
 "cells": [
  {
   "cell_type": "code",
   "execution_count": 2,
   "metadata": {
    "collapsed": false,
    "jupyter": {
     "outputs_hidden": false
    }
   },
   "outputs": [],
   "source": [
    "# !pip install google"
   ]
  },
  {
   "cell_type": "code",
   "execution_count": 3,
   "metadata": {
    "collapsed": false,
    "jupyter": {
     "outputs_hidden": false
    }
   },
   "outputs": [],
   "source": [
    "# from googlesearch import search"
   ]
  },
  {
   "cell_type": "code",
   "execution_count": 4,
   "metadata": {
    "collapsed": false,
    "jupyter": {
     "outputs_hidden": false
    }
   },
   "outputs": [],
   "source": [
    "# query = \"poland\"\n",
    "# search(query, tld='co.in', lang='en', num=10, start=0, stop=None, pause=2)"
   ]
  },
  {
   "cell_type": "code",
   "execution_count": 5,
   "metadata": {
    "collapsed": false,
    "jupyter": {
     "outputs_hidden": false
    }
   },
   "outputs": [],
   "source": [
    "# for i in search(query, tld=\"co.in\", num=10, stop=10, pause=2):\n",
    "#     print(i)"
   ]
  },
  {
   "cell_type": "code",
   "execution_count": 6,
   "metadata": {
    "collapsed": true,
    "jupyter": {
     "outputs_hidden": true
    }
   },
   "outputs": [],
   "source": [
    "# import pywhatkit as kt\n"
   ]
  },
  {
   "cell_type": "code",
   "execution_count": 7,
   "metadata": {
    "collapsed": false,
    "jupyter": {
     "outputs_hidden": false
    }
   },
   "outputs": [],
   "source": [
    "# target1 =\"poland\"\n",
    "#\n",
    "# kt.search(target1)\n"
   ]
  },
  {
   "cell_type": "code",
   "execution_count": 8,
   "metadata": {},
   "outputs": [],
   "source": [
    "# !pip install nodejs==18.0.0"
   ]
  },
  {
   "cell_type": "code",
   "execution_count": 9,
   "metadata": {
    "collapsed": false,
    "jupyter": {
     "outputs_hidden": false
    }
   },
   "outputs": [],
   "source": [
    "# !jupyter nbextension enable --user --py widgetsnbextension\n",
    "\n",
    "\n",
    "\n"
   ]
  },
  {
   "cell_type": "code",
   "execution_count": 1,
   "metadata": {
    "collapsed": false,
    "jupyter": {
     "outputs_hidden": false
    }
   },
   "outputs": [
    {
     "data": {
      "text/plain": "<IPython.core.display.Javascript object>",
      "application/javascript": "\n                    window.jupyter_python_executable = '/Library/Frameworks/Python.framework/Versions/3.10/Resources/Python.app/Contents/MacOS/Python';\n                    window.jupyter_widget_checks_silent = true;\n                    window.jupyter_widget_checks_libraries = [{\"python\": \"ipyvuetify\", \"classic\": \"jupyter-vuetify/extension\", \"lab\": \"jupyter-vuetify\"}, {\"python\": \"ipyvue\", \"classic\": \"jupyter-vue/extension\", \"lab\": \"jupyter-vue\"}];\n                    "
     },
     "metadata": {},
     "output_type": "display_data"
    },
    {
     "data": {
      "text/plain": "<IPython.core.display.HTML object>",
      "text/html": "<div class=\"jupyter-widget-checks-container\">\n    <script>\n        (function () {\n            console.log(\"Checking for jupyter-widgets extensions\")\n            const inLab = window._JUPYTERLAB !== undefined;\n            const silent = jupyter_widget_checks_silent;\n            const containers = document.getElementsByClassName('jupyter-widget-checks-container');\n            const rootEl = containers[containers.length - 1];\n            const libraries = window.jupyter_widget_checks_libraries;\n\n            function getBaseUrl() {\n                const labConfigData = document.getElementById(\"jupyter-config-data\");\n                if (labConfigData) {\n                    /* lab and Voila */\n                    return JSON.parse(labConfigData.textContent).baseUrl;\n                }\n                let base = document.body.dataset.baseUrl || document.baseURI;\n                return base;\n            }\n\n            function checkLibrary(extensions, library) {\n                let installed = false;\n                let ok = true;\n                if (inLab) {\n                    installed = _JUPYTERLAB[library.lab] !== undefined\n                } else {\n                    installed = extensions[library.classic] !== undefined;\n                    let enabled = extensions[library.classic] === true;\n                }\n                const div = document.createElement(\"div\")\n                if (installed) {\n                    if (!silent) {\n                        div.innerHTML = `Extension ${library.python} is installed at the server ✅`\n                        rootEl.appendChild(div)\n                    }\n                } else {\n                    div.innerHTML = `Extension ${library.python} is <b>NOT</b> installed at the server ❌.`\n                    rootEl.appendChild(div)\n                    ok = false;\n                }\n                return ok;\n            }\n\n            async function check() {\n                const url = `${getBaseUrl()}api/config/notebook`\n                const response = (await fetch(url));\n                const data = await response.json()\n                const extensions = data[\"load_extensions\"];\n                var ok = true;\n                let needsInstall = [];\n                libraries.forEach((library) => {\n                    if (!checkLibrary(extensions, library)) {\n                        ok = false;\n                        needsInstall.push(library.python)\n                        console.log(\"Needs install\", library.python)\n                    }\n                })\n                console.log(ok, needsInstall)\n                if (!ok) {\n                    const div = document.createElement(\"div\")\n                    const div2 = document.createElement(\"div\")\n                    div.innerHTML = `Run <code>${jupyter_python_executable} -m pip install ${needsInstall.join(\" \")}</code>. Refresh the page after installation.`\n                    div2.innerHTML = `Visit <a href=\"https://solara.dev/docs/troubleshoot\" target=\"_blank\">https://solara/dev/docs/troubleshoot</a> for more information.`\n                    rootEl.appendChild(div)\n                    rootEl.appendChild(div2)\n                }\n            }\n            check()\n        })();\n    </script>\n</div>\n"
     },
     "metadata": {},
     "output_type": "display_data"
    },
    {
     "data": {
      "text/plain": "react.component(__main__.Page)"
     },
     "metadata": {},
     "output_type": "display_data"
    }
   ],
   "source": [
    "import solara\n",
    "\n",
    "from IPython.display import display\n",
    "\n",
    "color = solara.reactive(\"red\")\n",
    "\n",
    "\n",
    "@solara.component\n",
    "def Page():\n",
    "    solara.Select(label=\"Color\", values=[\"red\", \"green\", \"blue\", \"orange\"], value=color)\n",
    "    solara.Markdown(\"## Hello World\", style={\"color\": color.value})\n",
    "\n",
    "display(Page)"
   ]
  },
  {
   "cell_type": "code",
   "execution_count": 10,
   "metadata": {},
   "outputs": [],
   "source": []
  }
 ],
 "metadata": {
  "kernelspec": {
   "display_name": "Python 3 (ipykernel)",
   "language": "python",
   "name": "python3"
  },
  "language_info": {
   "codemirror_mode": {
    "name": "ipython",
    "version": 3
   },
   "file_extension": ".py",
   "mimetype": "text/x-python",
   "name": "python",
   "nbconvert_exporter": "python",
   "pygments_lexer": "ipython3",
   "version": "3.10.5"
  }
 },
 "nbformat": 4,
 "nbformat_minor": 4
}
