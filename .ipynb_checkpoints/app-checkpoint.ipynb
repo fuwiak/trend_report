{
 "cells": [
  {
   "cell_type": "code",
   "execution_count": 4,
   "outputs": [
    {
     "name": "stdout",
     "output_type": "stream",
     "text": [
      "Requirement already satisfied: google in ./venv/lib/python3.10/site-packages (3.0.0)\r\n",
      "Requirement already satisfied: beautifulsoup4 in ./venv/lib/python3.10/site-packages (from google) (4.12.2)\r\n",
      "Requirement already satisfied: soupsieve>1.2 in ./venv/lib/python3.10/site-packages (from beautifulsoup4->google) (2.4.1)\r\n",
      "\r\n",
      "\u001B[1m[\u001B[0m\u001B[34;49mnotice\u001B[0m\u001B[1;39;49m]\u001B[0m\u001B[39;49m A new release of pip available: \u001B[0m\u001B[31;49m22.3.1\u001B[0m\u001B[39;49m -> \u001B[0m\u001B[32;49m23.2.1\u001B[0m\r\n",
      "\u001B[1m[\u001B[0m\u001B[34;49mnotice\u001B[0m\u001B[1;39;49m]\u001B[0m\u001B[39;49m To update, run: \u001B[0m\u001B[32;49mpip install --upgrade pip\u001B[0m\r\n"
     ]
    }
   ],
   "source": [
    "!pip install google"
   ],
   "metadata": {
    "collapsed": false
   }
  },
  {
   "cell_type": "code",
   "execution_count": 6,
   "outputs": [],
   "source": [
    "from googlesearch import search"
   ],
   "metadata": {
    "collapsed": false
   }
  },
  {
   "cell_type": "code",
   "execution_count": 7,
   "outputs": [
    {
     "data": {
      "text/plain": "<generator object search at 0x10d0777d0>"
     },
     "execution_count": 7,
     "metadata": {},
     "output_type": "execute_result"
    }
   ],
   "source": [
    "query = \"poland\"\n",
    "search(query, tld='co.in', lang='en', num=10, start=0, stop=None, pause=2)"
   ],
   "metadata": {
    "collapsed": false
   }
  },
  {
   "cell_type": "code",
   "execution_count": 8,
   "outputs": [
    {
     "name": "stdout",
     "output_type": "stream",
     "text": [
      "https://en.wikipedia.org/wiki/Poland\n",
      "https://en.wikipedia.org/wiki/Poland_(disambiguation)\n",
      "https://en.wikipedia.org/wiki/History_of_Poland_(1989%E2%80%93present)\n",
      "https://en.wikipedia.org/wiki/Coat_of_arms_of_Poland\n",
      "https://www.bbc.com/news/world-europe-66347370\n",
      "https://www.forbes.com/sites/davidaxe/2023/07/29/ukrainian-tank-losses-diminish-as-polish-technicians-save-more-and-more-damaged-leopard-2s/\n",
      "https://www.theguardian.com/world/2023/jul/28/lithuania-poland-belarus-borders-wagner-fighters\n",
      "https://www.britannica.com/place/Poland\n",
      "https://www.poland.travel/en\n",
      "https://www.gov.uk/foreign-travel-advice/poland\n"
     ]
    }
   ],
   "source": [
    "for i in search(query, tld=\"co.in\", num=10, stop=10, pause=2):\n",
    "    print(i)"
   ],
   "metadata": {
    "collapsed": false
   }
  },
  {
   "cell_type": "code",
   "execution_count": 2,
   "metadata": {
    "collapsed": true
   },
   "outputs": [],
   "source": [
    "import pywhatkit as kt\n"
   ]
  },
  {
   "cell_type": "code",
   "execution_count": 3,
   "outputs": [],
   "source": [
    "target1 =\"poland\"\n",
    "\n",
    "kt.search(target1)\n"
   ],
   "metadata": {
    "collapsed": false
   }
  },
  {
   "cell_type": "code",
   "execution_count": 12,
   "outputs": [
    {
     "data": {
      "text/plain": "react.component(__main__.Page)"
     },
     "metadata": {},
     "output_type": "display_data"
    }
   ],
   "source": [
    "import solara\n",
    "\n",
    "\n",
    "color = solara.reactive(\"red\")\n",
    "\n",
    "\n",
    "@solara.component\n",
    "def Page():\n",
    "    solara.Select(label=\"Color\", values=[\"red\", \"green\", \"blue\", \"orange\"], value=color)\n",
    "    solara.Markdown(\"## Hello World\", style={\"color\": color.value})\n",
    "\n",
    "display(Page)"
   ],
   "metadata": {
    "collapsed": false
   }
  },
  {
   "cell_type": "code",
   "execution_count": 16,
   "outputs": [
    {
     "data": {
      "text/plain": "react.component(__main__.Page)"
     },
     "metadata": {},
     "output_type": "display_data"
    }
   ],
   "source": [
    "display(Page)"
   ],
   "metadata": {
    "collapsed": false
   }
  },
  {
   "cell_type": "code",
   "execution_count": null,
   "outputs": [],
   "source": [],
   "metadata": {
    "collapsed": false
   }
  },
  {
   "cell_type": "code",
   "execution_count": null,
   "outputs": [],
   "source": [],
   "metadata": {
    "collapsed": false
   }
  }
 ],
 "metadata": {
  "kernelspec": {
   "display_name": "Python 3",
   "language": "python",
   "name": "python3"
  },
  "language_info": {
   "codemirror_mode": {
    "name": "ipython",
    "version": 2
   },
   "file_extension": ".py",
   "mimetype": "text/x-python",
   "name": "python",
   "nbconvert_exporter": "python",
   "pygments_lexer": "ipython2",
   "version": "2.7.6"
  }
 },
 "nbformat": 4,
 "nbformat_minor": 0
}
